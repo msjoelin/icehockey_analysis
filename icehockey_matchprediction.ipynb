{
 "cells": [
  {
   "cell_type": "markdown",
   "metadata": {},
   "source": [
    "# Predict ice hockey game result with machine learning\n",
    "\n",
    "The use of data analytics and statistics to predict outcome of sport events is nothing new and is of course used by the betting companies. You look at trends, table position, head-to-head results etc. And for the individual players, dont forget the most important aspect: This vague \"feeling\".  \n",
    "\n",
    "My \"feeling\" is normally not very accurate, and thus I wanted to set up a machine learning model that predicted the outcome of ice hockey games. Maybe this could help me to improve accuracy in my predictions, and not loose that much money. \n",
    "\n",
    "This notebook describes how I developed a random forest classifier to predict outcome of ice hockey games in the swedish 1st and 2nd league. I will also apply the model to the season results to see how it would have performed.\n",
    "\n",
    "I will use two datasets collected with the package ```swehockey_scraper``` which collects data from www.stats.swehockey.se. \n",
    "Details about the package is found here [github project for ice-hockey-analysis](https://github.com/msjoelin/swehockey_scraper)\n",
    "\n",
    "Steps:\n",
    "1. Import data\n",
    "2. Exploratory analysis\n",
    "3. Prepare data for the machine learning model\n",
    "4. Train model\n",
    "5. Evaluate performance\n",
    "6. Apply model to result current season and \n",
    "\n",
    "So let's start!"
   ]
  },
  {
   "cell_type": "markdown",
   "metadata": {},
   "source": [
    "### 1) Import  packages and data\n"
   ]
  },
  {
   "cell_type": "code",
   "execution_count": 1,
   "metadata": {},
   "outputs": [],
   "source": [
    "import numpy as np\n",
    "import pandas as pd\n",
    "\n",
    "# sklearn will be used to build the model\n",
    "from sklearn.ensemble import RandomForestClassifier\n",
    "from sklearn.linear_model import LogisticRegression\n",
    "from sklearn.model_selection import train_test_split \n",
    "from sklearn import preprocessing\n",
    "from sklearn.preprocessing import StandardScaler\n",
    "from sklearn.metrics import accuracy_score\n",
    "from sklearn.metrics import confusion_matrix\n",
    "from sklearn.metrics import classification_report\n",
    "\n",
    "# To save the model\n",
    "import pickle\n",
    "\n",
    "# For visualization\n",
    "import matplotlib.pyplot as plt\n",
    "import seaborn as sns\n",
    "sns.set()\n"
   ]
  },
  {
   "cell_type": "code",
   "execution_count": 2,
   "metadata": {},
   "outputs": [
    {
     "name": "stdout",
     "output_type": "stream",
     "text": [
      "9184  matches imported\n"
     ]
    },
    {
     "data": {
      "text/html": [
       "<div>\n",
       "<style scoped>\n",
       "    .dataframe tbody tr th:only-of-type {\n",
       "        vertical-align: middle;\n",
       "    }\n",
       "\n",
       "    .dataframe tbody tr th {\n",
       "        vertical-align: top;\n",
       "    }\n",
       "\n",
       "    .dataframe thead th {\n",
       "        text-align: right;\n",
       "    }\n",
       "</style>\n",
       "<table border=\"1\" class=\"dataframe\">\n",
       "  <thead>\n",
       "    <tr style=\"text-align: right;\">\n",
       "      <th></th>\n",
       "      <th>date</th>\n",
       "      <th>game</th>\n",
       "      <th>score</th>\n",
       "      <th>league</th>\n",
       "      <th>season</th>\n",
       "      <th>game_id</th>\n",
       "      <th>home</th>\n",
       "      <th>away</th>\n",
       "      <th>score_home</th>\n",
       "      <th>score_away</th>\n",
       "      <th>result</th>\n",
       "    </tr>\n",
       "  </thead>\n",
       "  <tbody>\n",
       "    <tr>\n",
       "      <th>0</th>\n",
       "      <td>2019-09-14</td>\n",
       "      <td>Frölunda HC  - Brynäs IF</td>\n",
       "      <td>2 - 5</td>\n",
       "      <td>shl</td>\n",
       "      <td>2019/20</td>\n",
       "      <td>441805</td>\n",
       "      <td>Frölunda HC</td>\n",
       "      <td>Brynäs IF</td>\n",
       "      <td>2</td>\n",
       "      <td>5</td>\n",
       "      <td>away</td>\n",
       "    </tr>\n",
       "    <tr>\n",
       "      <th>1</th>\n",
       "      <td>2019-09-14</td>\n",
       "      <td>Skellefteå AIK  - IK Oskarshamn</td>\n",
       "      <td>5 - 4</td>\n",
       "      <td>shl</td>\n",
       "      <td>2019/20</td>\n",
       "      <td>441808</td>\n",
       "      <td>Skellefteå AIK</td>\n",
       "      <td>IK Oskarshamn</td>\n",
       "      <td>5</td>\n",
       "      <td>4</td>\n",
       "      <td>draw</td>\n",
       "    </tr>\n",
       "    <tr>\n",
       "      <th>2</th>\n",
       "      <td>2019-09-14</td>\n",
       "      <td>Leksands IF  - IF Malmö Redhawks</td>\n",
       "      <td>5 - 2</td>\n",
       "      <td>shl</td>\n",
       "      <td>2019/20</td>\n",
       "      <td>441809</td>\n",
       "      <td>Leksands IF</td>\n",
       "      <td>IF Malmö Redhawks</td>\n",
       "      <td>5</td>\n",
       "      <td>2</td>\n",
       "      <td>home</td>\n",
       "    </tr>\n",
       "    <tr>\n",
       "      <th>3</th>\n",
       "      <td>2019-09-14</td>\n",
       "      <td>Djurgårdens IF  - Linköping HC</td>\n",
       "      <td>4 - 2</td>\n",
       "      <td>shl</td>\n",
       "      <td>2019/20</td>\n",
       "      <td>441803</td>\n",
       "      <td>Djurgårdens IF</td>\n",
       "      <td>Linköping HC</td>\n",
       "      <td>4</td>\n",
       "      <td>2</td>\n",
       "      <td>home</td>\n",
       "    </tr>\n",
       "    <tr>\n",
       "      <th>4</th>\n",
       "      <td>2019-09-14</td>\n",
       "      <td>Färjestad BK  - Örebro HK</td>\n",
       "      <td>4 - 6</td>\n",
       "      <td>shl</td>\n",
       "      <td>2019/20</td>\n",
       "      <td>441804</td>\n",
       "      <td>Färjestad BK</td>\n",
       "      <td>Örebro HK</td>\n",
       "      <td>4</td>\n",
       "      <td>6</td>\n",
       "      <td>away</td>\n",
       "    </tr>\n",
       "  </tbody>\n",
       "</table>\n",
       "</div>"
      ],
      "text/plain": [
       "         date                              game  score league   season  \\\n",
       "0  2019-09-14          Frölunda HC  - Brynäs IF  2 - 5    shl  2019/20   \n",
       "1  2019-09-14   Skellefteå AIK  - IK Oskarshamn  5 - 4    shl  2019/20   \n",
       "2  2019-09-14  Leksands IF  - IF Malmö Redhawks  5 - 2    shl  2019/20   \n",
       "3  2019-09-14    Djurgårdens IF  - Linköping HC  4 - 2    shl  2019/20   \n",
       "4  2019-09-14         Färjestad BK  - Örebro HK  4 - 6    shl  2019/20   \n",
       "\n",
       "   game_id            home               away  score_home  score_away result  \n",
       "0   441805     Frölunda HC          Brynäs IF           2           5   away  \n",
       "1   441808  Skellefteå AIK      IK Oskarshamn           5           4   draw  \n",
       "2   441809     Leksands IF  IF Malmö Redhawks           5           2   home  \n",
       "3   441803  Djurgårdens IF       Linköping HC           4           2   home  \n",
       "4   441804    Färjestad BK          Örebro HK           4           6   away  "
      ]
     },
     "execution_count": 2,
     "metadata": {},
     "output_type": "execute_result"
    }
   ],
   "source": [
    "# Import game data. Only keep relevant columns\n",
    "url_games = 'https://raw.githubusercontent.com/msjoelin/icehockey_analysis/master/data/df_games.csv'\n",
    "\n",
    "df_games = pd.read_csv(url_games, error_bad_lines=False)[['date', 'game', 'score', 'league', 'season', 'game_id', \n",
    "                'home', 'away', 'score_home', 'score_away', 'result']]\n",
    "\n",
    "print(df_games.shape[0], \" matches imported\")\n",
    "\n",
    "df_games.head()"
   ]
  },
  {
   "cell_type": "code",
   "execution_count": 3,
   "metadata": {},
   "outputs": [
    {
     "name": "stdout",
     "output_type": "stream",
     "text": [
      "18368  teamrows imported\n"
     ]
    },
    {
     "data": {
      "text/html": [
       "<div>\n",
       "<style scoped>\n",
       "    .dataframe tbody tr th:only-of-type {\n",
       "        vertical-align: middle;\n",
       "    }\n",
       "\n",
       "    .dataframe tbody tr th {\n",
       "        vertical-align: top;\n",
       "    }\n",
       "\n",
       "    .dataframe thead th {\n",
       "        text-align: right;\n",
       "    }\n",
       "</style>\n",
       "<table border=\"1\" class=\"dataframe\">\n",
       "  <thead>\n",
       "    <tr style=\"text-align: right;\">\n",
       "      <th></th>\n",
       "      <th>game_id</th>\n",
       "      <th>team</th>\n",
       "      <th>h_a</th>\n",
       "      <th>win_R5</th>\n",
       "      <th>draw_R5</th>\n",
       "      <th>lost_R5</th>\n",
       "      <th>H2H_W</th>\n",
       "      <th>H2H_D</th>\n",
       "      <th>H2H_L</th>\n",
       "      <th>scored_avg_R5</th>\n",
       "      <th>conceded_avg_R5</th>\n",
       "      <th>points_cum_prev_avg</th>\n",
       "      <th>points_cum_h_a_prev_avg</th>\n",
       "    </tr>\n",
       "  </thead>\n",
       "  <tbody>\n",
       "    <tr>\n",
       "      <th>0</th>\n",
       "      <td>422474</td>\n",
       "      <td>AIK</td>\n",
       "      <td>away</td>\n",
       "      <td>0.000000</td>\n",
       "      <td>0.000000</td>\n",
       "      <td>0.000000</td>\n",
       "      <td>0.0</td>\n",
       "      <td>0.0</td>\n",
       "      <td>0.0</td>\n",
       "      <td>0.0</td>\n",
       "      <td>0.000000</td>\n",
       "      <td>NaN</td>\n",
       "      <td>NaN</td>\n",
       "    </tr>\n",
       "    <tr>\n",
       "      <th>1</th>\n",
       "      <td>422481</td>\n",
       "      <td>AIK</td>\n",
       "      <td>home</td>\n",
       "      <td>0.000000</td>\n",
       "      <td>0.000000</td>\n",
       "      <td>1.000000</td>\n",
       "      <td>0.0</td>\n",
       "      <td>0.0</td>\n",
       "      <td>0.0</td>\n",
       "      <td>3.0</td>\n",
       "      <td>7.000000</td>\n",
       "      <td>0.000000</td>\n",
       "      <td>NaN</td>\n",
       "    </tr>\n",
       "    <tr>\n",
       "      <th>2</th>\n",
       "      <td>422484</td>\n",
       "      <td>AIK</td>\n",
       "      <td>away</td>\n",
       "      <td>0.500000</td>\n",
       "      <td>0.000000</td>\n",
       "      <td>0.500000</td>\n",
       "      <td>0.0</td>\n",
       "      <td>0.0</td>\n",
       "      <td>0.0</td>\n",
       "      <td>4.5</td>\n",
       "      <td>5.500000</td>\n",
       "      <td>1.500000</td>\n",
       "      <td>0.0</td>\n",
       "    </tr>\n",
       "    <tr>\n",
       "      <th>3</th>\n",
       "      <td>422494</td>\n",
       "      <td>AIK</td>\n",
       "      <td>home</td>\n",
       "      <td>0.333333</td>\n",
       "      <td>0.333333</td>\n",
       "      <td>0.333333</td>\n",
       "      <td>0.0</td>\n",
       "      <td>0.0</td>\n",
       "      <td>0.0</td>\n",
       "      <td>4.0</td>\n",
       "      <td>4.333333</td>\n",
       "      <td>1.666667</td>\n",
       "      <td>3.0</td>\n",
       "    </tr>\n",
       "    <tr>\n",
       "      <th>4</th>\n",
       "      <td>422499</td>\n",
       "      <td>AIK</td>\n",
       "      <td>away</td>\n",
       "      <td>0.500000</td>\n",
       "      <td>0.250000</td>\n",
       "      <td>0.250000</td>\n",
       "      <td>0.0</td>\n",
       "      <td>0.0</td>\n",
       "      <td>0.0</td>\n",
       "      <td>4.5</td>\n",
       "      <td>3.750000</td>\n",
       "      <td>2.000000</td>\n",
       "      <td>1.0</td>\n",
       "    </tr>\n",
       "  </tbody>\n",
       "</table>\n",
       "</div>"
      ],
      "text/plain": [
       "   game_id team   h_a    win_R5   draw_R5   lost_R5  H2H_W  H2H_D  H2H_L  \\\n",
       "0   422474  AIK  away  0.000000  0.000000  0.000000    0.0    0.0    0.0   \n",
       "1   422481  AIK  home  0.000000  0.000000  1.000000    0.0    0.0    0.0   \n",
       "2   422484  AIK  away  0.500000  0.000000  0.500000    0.0    0.0    0.0   \n",
       "3   422494  AIK  home  0.333333  0.333333  0.333333    0.0    0.0    0.0   \n",
       "4   422499  AIK  away  0.500000  0.250000  0.250000    0.0    0.0    0.0   \n",
       "\n",
       "   scored_avg_R5  conceded_avg_R5  points_cum_prev_avg  \\\n",
       "0            0.0         0.000000                  NaN   \n",
       "1            3.0         7.000000             0.000000   \n",
       "2            4.5         5.500000             1.500000   \n",
       "3            4.0         4.333333             1.666667   \n",
       "4            4.5         3.750000             2.000000   \n",
       "\n",
       "   points_cum_h_a_prev_avg  \n",
       "0                      NaN  \n",
       "1                      NaN  \n",
       "2                      0.0  \n",
       "3                      3.0  \n",
       "4                      1.0  "
      ]
     },
     "execution_count": 3,
     "metadata": {},
     "output_type": "execute_result"
    }
   ],
   "source": [
    "# Import team data\n",
    "url_teams = 'https://raw.githubusercontent.com/msjoelin/icehockey_analysis/master/data/df_teams.csv'\n",
    "\n",
    "df_teams = pd.read_csv(url_teams, error_bad_lines=False)[['game_id', 'team', 'h_a', \n",
    "                     'win_R5', 'draw_R5', 'lost_R5',  \n",
    "                     'H2H_W', 'H2H_D', 'H2H_L',\n",
    "                    'scored_avg_R5', 'conceded_avg_R5',\n",
    "                    'points_cum_prev_avg', 'points_cum_h_a_prev_avg']]\n",
    "\n",
    "print(df_teams.shape[0], \" teamrows imported\")\n",
    "\n",
    "df_teams.head()"
   ]
  },
  {
   "cell_type": "markdown",
   "metadata": {},
   "source": [
    "Following columns were selected to be included in the analysis: \n",
    "\n",
    "* Win_R5 / Draw_R5 / Lost_R5   \n",
    "Ratio of won, draw or lost games the last 5 games\n",
    "* H2H_W/D/L  \n",
    "Head to head ratio\n",
    "* points_cum_prev_avg  \n",
    "Average number of points per game during the season so far\n",
    "* points_cum_h_a_prev_avg  \n",
    "Average number of points per game during the season so far when playing home or away\n",
    "\n",
    "Next step is to join data for home and away teams to the game dataset. These columns will be used for predictions later on. In order to do so, we are splitting up the teams data into home and away and adding suffix to column names. This data is then added to the games data into the new dataframe ```df_games_trend```"
   ]
  },
  {
   "cell_type": "code",
   "execution_count": 4,
   "metadata": {},
   "outputs": [
    {
     "name": "stdout",
     "output_type": "stream",
     "text": [
      "<class 'pandas.core.frame.DataFrame'>\n",
      "Int64Index: 9184 entries, 0 to 9183\n",
      "Data columns (total 28 columns):\n",
      " #   Column                        Non-Null Count  Dtype  \n",
      "---  ------                        --------------  -----  \n",
      " 0   date                          9184 non-null   object \n",
      " 1   game                          9184 non-null   object \n",
      " 2   score                         9184 non-null   object \n",
      " 3   league                        9184 non-null   object \n",
      " 4   season                        9184 non-null   object \n",
      " 5   game_id                       9184 non-null   int64  \n",
      " 6   home                          9184 non-null   object \n",
      " 7   away                          9184 non-null   object \n",
      " 8   score_home                    9184 non-null   int64  \n",
      " 9   score_away                    9184 non-null   int64  \n",
      " 10  result                        9184 non-null   object \n",
      " 11  win_R5_home                   9184 non-null   float64\n",
      " 12  draw_R5_home                  9184 non-null   float64\n",
      " 13  lost_R5_home                  9184 non-null   float64\n",
      " 14  H2H_W_home                    9184 non-null   float64\n",
      " 15  H2H_D_home                    9184 non-null   float64\n",
      " 16  H2H_L_home                    9184 non-null   float64\n",
      " 17  scored_avg_R5_home            9184 non-null   float64\n",
      " 18  conceded_avg_R5_home          9184 non-null   float64\n",
      " 19  points_cum_prev_avg_home      9009 non-null   float64\n",
      " 20  points_cum_h_a_prev_avg_home  8832 non-null   float64\n",
      " 21  win_R5_away                   9184 non-null   float64\n",
      " 22  draw_R5_away                  9184 non-null   float64\n",
      " 23  lost_R5_away                  9184 non-null   float64\n",
      " 24  scored_avg_R5_away            9184 non-null   float64\n",
      " 25  conceded_avg_R5_away          9184 non-null   float64\n",
      " 26  points_cum_prev_avg_away      9007 non-null   float64\n",
      " 27  points_cum_h_a_prev_avg_away  8832 non-null   float64\n",
      "dtypes: float64(17), int64(3), object(8)\n",
      "memory usage: 2.0+ MB\n"
     ]
    }
   ],
   "source": [
    "# Split into home and away data\n",
    "df_home = df_teams[df_teams['h_a']=='home'].copy().drop(['team', 'h_a'], axis=1).add_suffix('_home').rename(columns={\"game_id_home\": \"game_id\"})\n",
    "df_away = df_teams[df_teams['h_a']=='away'].copy().drop(['team', 'h_a'], axis=1).add_suffix('_away').rename(columns={\"game_id_away\": \"game_id\"})\n",
    "\n",
    "df_games_trend = pd.merge(df_games, df_home, \n",
    "                   on='game_id', how='left')\n",
    "\n",
    "df_games_trend = pd.merge(df_games_trend, df_away, \n",
    "                   on='game_id', how='left')\n",
    "\n",
    "# H2H values are now duplicates, so remove one of them and rename the other one\n",
    "df_games_trend=df_games_trend.drop(['H2H_W_away', 'H2H_D_away', 'H2H_L_away'], axis=1)\n",
    "\n",
    "df_games_trend.info()"
   ]
  },
  {
   "cell_type": "markdown",
   "metadata": {},
   "source": [
    "That was it. We have now prepared the data that should be used for predictions. Next step is to explore the data. "
   ]
  },
  {
   "cell_type": "markdown",
   "metadata": {},
   "source": [
    "### 2) Exploratory analysis\n",
    "\n",
    "As always the first step is to explore the data. "
   ]
  },
  {
   "cell_type": "code",
   "execution_count": 5,
   "metadata": {},
   "outputs": [
    {
     "data": {
      "text/html": [
       "<div>\n",
       "<style scoped>\n",
       "    .dataframe tbody tr th:only-of-type {\n",
       "        vertical-align: middle;\n",
       "    }\n",
       "\n",
       "    .dataframe tbody tr th {\n",
       "        vertical-align: top;\n",
       "    }\n",
       "\n",
       "    .dataframe thead th {\n",
       "        text-align: right;\n",
       "    }\n",
       "</style>\n",
       "<table border=\"1\" class=\"dataframe\">\n",
       "  <thead>\n",
       "    <tr style=\"text-align: right;\">\n",
       "      <th></th>\n",
       "      <th>game_id</th>\n",
       "      <th>score_home</th>\n",
       "      <th>score_away</th>\n",
       "      <th>win_R5_home</th>\n",
       "      <th>draw_R5_home</th>\n",
       "      <th>lost_R5_home</th>\n",
       "      <th>H2H_W_home</th>\n",
       "      <th>H2H_D_home</th>\n",
       "      <th>H2H_L_home</th>\n",
       "      <th>scored_avg_R5_home</th>\n",
       "      <th>conceded_avg_R5_home</th>\n",
       "      <th>points_cum_prev_avg_home</th>\n",
       "      <th>points_cum_h_a_prev_avg_home</th>\n",
       "      <th>win_R5_away</th>\n",
       "      <th>draw_R5_away</th>\n",
       "      <th>lost_R5_away</th>\n",
       "      <th>scored_avg_R5_away</th>\n",
       "      <th>conceded_avg_R5_away</th>\n",
       "      <th>points_cum_prev_avg_away</th>\n",
       "      <th>points_cum_h_a_prev_avg_away</th>\n",
       "    </tr>\n",
       "  </thead>\n",
       "  <tbody>\n",
       "    <tr>\n",
       "      <th>count</th>\n",
       "      <td>9184.000000</td>\n",
       "      <td>9184.000000</td>\n",
       "      <td>9184.000000</td>\n",
       "      <td>9184.000000</td>\n",
       "      <td>9184.000000</td>\n",
       "      <td>9184.000000</td>\n",
       "      <td>9184.000000</td>\n",
       "      <td>9184.000000</td>\n",
       "      <td>9184.00000</td>\n",
       "      <td>9184.000000</td>\n",
       "      <td>9184.000000</td>\n",
       "      <td>9009.000000</td>\n",
       "      <td>8832.000000</td>\n",
       "      <td>9184.000000</td>\n",
       "      <td>9184.000000</td>\n",
       "      <td>9184.000000</td>\n",
       "      <td>9184.000000</td>\n",
       "      <td>9184.000000</td>\n",
       "      <td>9007.000000</td>\n",
       "      <td>8832.000000</td>\n",
       "    </tr>\n",
       "    <tr>\n",
       "      <th>mean</th>\n",
       "      <td>256957.251089</td>\n",
       "      <td>2.935105</td>\n",
       "      <td>2.430205</td>\n",
       "      <td>0.375528</td>\n",
       "      <td>0.209776</td>\n",
       "      <td>0.395641</td>\n",
       "      <td>0.363284</td>\n",
       "      <td>0.202434</td>\n",
       "      <td>0.38169</td>\n",
       "      <td>2.603061</td>\n",
       "      <td>2.657571</td>\n",
       "      <td>1.467175</td>\n",
       "      <td>1.739727</td>\n",
       "      <td>0.393198</td>\n",
       "      <td>0.214315</td>\n",
       "      <td>0.373214</td>\n",
       "      <td>2.652134</td>\n",
       "      <td>2.596833</td>\n",
       "      <td>1.493979</td>\n",
       "      <td>1.218418</td>\n",
       "    </tr>\n",
       "    <tr>\n",
       "      <th>std</th>\n",
       "      <td>141346.628142</td>\n",
       "      <td>1.717349</td>\n",
       "      <td>1.559005</td>\n",
       "      <td>0.242882</td>\n",
       "      <td>0.195283</td>\n",
       "      <td>0.245336</td>\n",
       "      <td>0.227754</td>\n",
       "      <td>0.174017</td>\n",
       "      <td>0.23556</td>\n",
       "      <td>0.899425</td>\n",
       "      <td>0.913987</td>\n",
       "      <td>0.473430</td>\n",
       "      <td>0.579692</td>\n",
       "      <td>0.246756</td>\n",
       "      <td>0.197301</td>\n",
       "      <td>0.241922</td>\n",
       "      <td>0.921188</td>\n",
       "      <td>0.894860</td>\n",
       "      <td>0.476068</td>\n",
       "      <td>0.566392</td>\n",
       "    </tr>\n",
       "    <tr>\n",
       "      <th>min</th>\n",
       "      <td>180.000000</td>\n",
       "      <td>0.000000</td>\n",
       "      <td>0.000000</td>\n",
       "      <td>0.000000</td>\n",
       "      <td>0.000000</td>\n",
       "      <td>0.000000</td>\n",
       "      <td>0.000000</td>\n",
       "      <td>0.000000</td>\n",
       "      <td>0.00000</td>\n",
       "      <td>0.000000</td>\n",
       "      <td>0.000000</td>\n",
       "      <td>0.000000</td>\n",
       "      <td>0.000000</td>\n",
       "      <td>0.000000</td>\n",
       "      <td>0.000000</td>\n",
       "      <td>0.000000</td>\n",
       "      <td>0.000000</td>\n",
       "      <td>0.000000</td>\n",
       "      <td>0.000000</td>\n",
       "      <td>0.000000</td>\n",
       "    </tr>\n",
       "    <tr>\n",
       "      <th>25%</th>\n",
       "      <td>123022.750000</td>\n",
       "      <td>2.000000</td>\n",
       "      <td>1.000000</td>\n",
       "      <td>0.200000</td>\n",
       "      <td>0.000000</td>\n",
       "      <td>0.200000</td>\n",
       "      <td>0.230769</td>\n",
       "      <td>0.071429</td>\n",
       "      <td>0.25000</td>\n",
       "      <td>2.000000</td>\n",
       "      <td>2.000000</td>\n",
       "      <td>1.181818</td>\n",
       "      <td>1.409091</td>\n",
       "      <td>0.200000</td>\n",
       "      <td>0.000000</td>\n",
       "      <td>0.200000</td>\n",
       "      <td>2.000000</td>\n",
       "      <td>2.000000</td>\n",
       "      <td>1.200000</td>\n",
       "      <td>0.875000</td>\n",
       "    </tr>\n",
       "    <tr>\n",
       "      <th>50%</th>\n",
       "      <td>301008.500000</td>\n",
       "      <td>3.000000</td>\n",
       "      <td>2.000000</td>\n",
       "      <td>0.400000</td>\n",
       "      <td>0.200000</td>\n",
       "      <td>0.400000</td>\n",
       "      <td>0.363636</td>\n",
       "      <td>0.200000</td>\n",
       "      <td>0.37500</td>\n",
       "      <td>2.600000</td>\n",
       "      <td>2.600000</td>\n",
       "      <td>1.480769</td>\n",
       "      <td>1.750000</td>\n",
       "      <td>0.400000</td>\n",
       "      <td>0.200000</td>\n",
       "      <td>0.400000</td>\n",
       "      <td>2.600000</td>\n",
       "      <td>2.600000</td>\n",
       "      <td>1.500000</td>\n",
       "      <td>1.214286</td>\n",
       "    </tr>\n",
       "    <tr>\n",
       "      <th>75%</th>\n",
       "      <td>389831.250000</td>\n",
       "      <td>4.000000</td>\n",
       "      <td>3.000000</td>\n",
       "      <td>0.600000</td>\n",
       "      <td>0.400000</td>\n",
       "      <td>0.600000</td>\n",
       "      <td>0.500000</td>\n",
       "      <td>0.285714</td>\n",
       "      <td>0.50000</td>\n",
       "      <td>3.200000</td>\n",
       "      <td>3.200000</td>\n",
       "      <td>1.750000</td>\n",
       "      <td>2.090909</td>\n",
       "      <td>0.600000</td>\n",
       "      <td>0.400000</td>\n",
       "      <td>0.600000</td>\n",
       "      <td>3.200000</td>\n",
       "      <td>3.200000</td>\n",
       "      <td>1.764706</td>\n",
       "      <td>1.533333</td>\n",
       "    </tr>\n",
       "    <tr>\n",
       "      <th>max</th>\n",
       "      <td>442238.000000</td>\n",
       "      <td>12.000000</td>\n",
       "      <td>11.000000</td>\n",
       "      <td>1.000000</td>\n",
       "      <td>1.000000</td>\n",
       "      <td>1.000000</td>\n",
       "      <td>1.000000</td>\n",
       "      <td>1.000000</td>\n",
       "      <td>1.00000</td>\n",
       "      <td>8.000000</td>\n",
       "      <td>10.000000</td>\n",
       "      <td>3.000000</td>\n",
       "      <td>3.000000</td>\n",
       "      <td>1.000000</td>\n",
       "      <td>1.000000</td>\n",
       "      <td>1.000000</td>\n",
       "      <td>10.000000</td>\n",
       "      <td>7.500000</td>\n",
       "      <td>3.000000</td>\n",
       "      <td>3.000000</td>\n",
       "    </tr>\n",
       "  </tbody>\n",
       "</table>\n",
       "</div>"
      ],
      "text/plain": [
       "             game_id   score_home   score_away  win_R5_home  draw_R5_home  \\\n",
       "count    9184.000000  9184.000000  9184.000000  9184.000000   9184.000000   \n",
       "mean   256957.251089     2.935105     2.430205     0.375528      0.209776   \n",
       "std    141346.628142     1.717349     1.559005     0.242882      0.195283   \n",
       "min       180.000000     0.000000     0.000000     0.000000      0.000000   \n",
       "25%    123022.750000     2.000000     1.000000     0.200000      0.000000   \n",
       "50%    301008.500000     3.000000     2.000000     0.400000      0.200000   \n",
       "75%    389831.250000     4.000000     3.000000     0.600000      0.400000   \n",
       "max    442238.000000    12.000000    11.000000     1.000000      1.000000   \n",
       "\n",
       "       lost_R5_home   H2H_W_home   H2H_D_home  H2H_L_home  scored_avg_R5_home  \\\n",
       "count   9184.000000  9184.000000  9184.000000  9184.00000         9184.000000   \n",
       "mean       0.395641     0.363284     0.202434     0.38169            2.603061   \n",
       "std        0.245336     0.227754     0.174017     0.23556            0.899425   \n",
       "min        0.000000     0.000000     0.000000     0.00000            0.000000   \n",
       "25%        0.200000     0.230769     0.071429     0.25000            2.000000   \n",
       "50%        0.400000     0.363636     0.200000     0.37500            2.600000   \n",
       "75%        0.600000     0.500000     0.285714     0.50000            3.200000   \n",
       "max        1.000000     1.000000     1.000000     1.00000            8.000000   \n",
       "\n",
       "       conceded_avg_R5_home  points_cum_prev_avg_home  \\\n",
       "count           9184.000000               9009.000000   \n",
       "mean               2.657571                  1.467175   \n",
       "std                0.913987                  0.473430   \n",
       "min                0.000000                  0.000000   \n",
       "25%                2.000000                  1.181818   \n",
       "50%                2.600000                  1.480769   \n",
       "75%                3.200000                  1.750000   \n",
       "max               10.000000                  3.000000   \n",
       "\n",
       "       points_cum_h_a_prev_avg_home  win_R5_away  draw_R5_away  lost_R5_away  \\\n",
       "count                   8832.000000  9184.000000   9184.000000   9184.000000   \n",
       "mean                       1.739727     0.393198      0.214315      0.373214   \n",
       "std                        0.579692     0.246756      0.197301      0.241922   \n",
       "min                        0.000000     0.000000      0.000000      0.000000   \n",
       "25%                        1.409091     0.200000      0.000000      0.200000   \n",
       "50%                        1.750000     0.400000      0.200000      0.400000   \n",
       "75%                        2.090909     0.600000      0.400000      0.600000   \n",
       "max                        3.000000     1.000000      1.000000      1.000000   \n",
       "\n",
       "       scored_avg_R5_away  conceded_avg_R5_away  points_cum_prev_avg_away  \\\n",
       "count         9184.000000           9184.000000               9007.000000   \n",
       "mean             2.652134              2.596833                  1.493979   \n",
       "std              0.921188              0.894860                  0.476068   \n",
       "min              0.000000              0.000000                  0.000000   \n",
       "25%              2.000000              2.000000                  1.200000   \n",
       "50%              2.600000              2.600000                  1.500000   \n",
       "75%              3.200000              3.200000                  1.764706   \n",
       "max             10.000000              7.500000                  3.000000   \n",
       "\n",
       "       points_cum_h_a_prev_avg_away  \n",
       "count                   8832.000000  \n",
       "mean                       1.218418  \n",
       "std                        0.566392  \n",
       "min                        0.000000  \n",
       "25%                        0.875000  \n",
       "50%                        1.214286  \n",
       "75%                        1.533333  \n",
       "max                        3.000000  "
      ]
     },
     "execution_count": 5,
     "metadata": {},
     "output_type": "execute_result"
    }
   ],
   "source": [
    "df_games_trend.describe()"
   ]
  },
  {
   "cell_type": "markdown",
   "metadata": {},
   "source": [
    "The dataset contains from 2007 for SHL and Allsvenskan."
   ]
  },
  {
   "cell_type": "code",
   "execution_count": 6,
   "metadata": {},
   "outputs": [
    {
     "name": "stdout",
     "output_type": "stream",
     "text": [
      "2015/16    728\n",
      "2019/20    728\n",
      "2017/18    728\n",
      "2018/19    728\n",
      "2016/17    728\n",
      "2010/11    694\n",
      "2014/15    694\n",
      "2013/14    694\n",
      "2011/12    694\n",
      "2009/10    694\n",
      "2012/13    694\n",
      "2007/08    690\n",
      "2008/09    690\n",
      "Name: season, dtype: int64\n",
      "allsvenskan    4724\n",
      "shl            4460\n",
      "Name: league, dtype: int64\n"
     ]
    }
   ],
   "source": [
    "print(df_games_trend['season'].value_counts())\n",
    "print(df_games_trend['league'].value_counts())"
   ]
  },
  {
   "cell_type": "code",
   "execution_count": 7,
   "metadata": {},
   "outputs": [
    {
     "name": "stdout",
     "output_type": "stream",
     "text": [
      "<class 'pandas.core.frame.DataFrame'>\n",
      "Index: 20 entries, game_id to points_cum_h_a_prev_avg_away\n",
      "Data columns (total 20 columns):\n",
      " #   Column                        Non-Null Count  Dtype  \n",
      "---  ------                        --------------  -----  \n",
      " 0   game_id                       20 non-null     float64\n",
      " 1   score_home                    20 non-null     float64\n",
      " 2   score_away                    20 non-null     float64\n",
      " 3   win_R5_home                   20 non-null     float64\n",
      " 4   draw_R5_home                  20 non-null     float64\n",
      " 5   lost_R5_home                  20 non-null     float64\n",
      " 6   H2H_W_home                    20 non-null     float64\n",
      " 7   H2H_D_home                    20 non-null     float64\n",
      " 8   H2H_L_home                    20 non-null     float64\n",
      " 9   scored_avg_R5_home            20 non-null     float64\n",
      " 10  conceded_avg_R5_home          20 non-null     float64\n",
      " 11  points_cum_prev_avg_home      20 non-null     float64\n",
      " 12  points_cum_h_a_prev_avg_home  20 non-null     float64\n",
      " 13  win_R5_away                   20 non-null     float64\n",
      " 14  draw_R5_away                  20 non-null     float64\n",
      " 15  lost_R5_away                  20 non-null     float64\n",
      " 16  scored_avg_R5_away            20 non-null     float64\n",
      " 17  conceded_avg_R5_away          20 non-null     float64\n",
      " 18  points_cum_prev_avg_away      20 non-null     float64\n",
      " 19  points_cum_h_a_prev_avg_away  20 non-null     float64\n",
      "dtypes: float64(20)\n",
      "memory usage: 3.3+ KB\n"
     ]
    }
   ],
   "source": [
    "df_games_trend.corr().info()"
   ]
  },
  {
   "cell_type": "markdown",
   "metadata": {},
   "source": [
    "Next step is to add some variables in order to analyze correlation of outcome vs attributes. \n",
    "There will be three new columns, each having 1 or 0 if the outcome was home, draw or away. \n"
   ]
  },
  {
   "cell_type": "code",
   "execution_count": 8,
   "metadata": {},
   "outputs": [
    {
     "data": {
      "image/png": "[encoded data removed]",
      "text/plain": [
       "<Figure size 864x648 with 2 Axes>"
      ]
     },
     "metadata": {},
     "output_type": "display_data"
    }
   ],
   "source": [
    "# Introduce binary outcome variables\n",
    "df_games_trend['home_result'] = 0\n",
    "df_games_trend.loc[(df_games_trend['result'] == 'home'), 'home_result'] = 1\n",
    "\n",
    "df_games_trend['draw_result'] = 0\n",
    "df_games_trend.loc[(df_games_trend['result'] == 'draw'), 'draw_result'] = 1\n",
    "\n",
    "df_games_trend['away_result'] = 0\n",
    "df_games_trend.loc[(df_games_trend['result'] == 'away'), 'away_result'] = 1\n",
    "\n",
    "# Heatmap for correlations\n",
    "plt.figure(figsize = (12, 9))\n",
    "s = sns.heatmap(df_games_trend.corr()[['home_result', 'draw_result', 'away_result']][3:20],\n",
    "               annot = True, \n",
    "               cmap = 'RdBu',\n",
    "               vmin = -0.1, \n",
    "               vmax = 0.1)\n",
    "s.set_yticklabels(s.get_yticklabels(), rotation = 0, fontsize = 12)\n",
    "s.set_xticklabels(s.get_xticklabels(), rotation = 90, fontsize = 12)\n",
    "plt.title('Correlation Heatmap')\n",
    "plt.show()"
   ]
  },
  {
   "cell_type": "markdown",
   "metadata": {},
   "source": [
    "The heatmap shows correlation between result and different attributes. \n",
    "\n",
    "* Highest correlation for home and away win is the total cumulative points in the season. Not very surprising. \n",
    "* Importance of form for the home team has higher correlation than for away team. \n"
   ]
  },
  {
   "cell_type": "markdown",
   "metadata": {},
   "source": [
    "### 3. Prepare data for the machine learning model\n",
    "\n",
    "After the quick cleaning and exploration of the data, it's time to set up the machine learning model.  \n",
    "Out dataframe contains some null values, coming from games in the beginning of the season where no trends can be calculated. These are dropped, together with the columns that was created for the correlation chart. \n",
    "\n",
    "The data for current season is saved to another dataframe, as this will be used to evaluate the final performance of the model and thus should not be used when training the model."
   ]
  },
  {
   "cell_type": "code",
   "execution_count": 9,
   "metadata": {},
   "outputs": [
    {
     "name": "stdout",
     "output_type": "stream",
     "text": [
      "Data current season: 697\n",
      "Data for modeling: 8107\n"
     ]
    }
   ],
   "source": [
    "df_model = df_games_trend[~df_games_trend.isnull().any(axis=1)].reset_index(drop=True)\n",
    "df_model  = df_model.drop(['home_result','draw_result', 'away_result'], axis=1)\n",
    "\n",
    "df_2019 = df_model[df_model['season']=='2019/20']\n",
    "df_model = df_model[df_model['season']!='2019/20'].reset_index(drop=True)\n",
    "\n",
    "print(\"Data current season: \" + str(df_2019.shape[0]))\n",
    "print(\"Data for modeling: \" + str(df_model.shape[0]))\n"
   ]
  },
  {
   "cell_type": "markdown",
   "metadata": {},
   "source": [
    "#### Check for imbalance\n",
    "A balanced dataset would give us about 1/3 per each home, away and draw outcome.  \n",
    "\n",
    "Now we have a skewed distribution, and thus a baseline, primitive model only predicting \"home\" all the time would be right 50% of the times. This is important to keep in mind when evaluating the final outcome. The trained model should at least be better than this. "
   ]
  },
  {
   "cell_type": "code",
   "execution_count": 10,
   "metadata": {},
   "outputs": [
    {
     "data": {
      "text/plain": [
       "home    0.472555\n",
       "away    0.308869\n",
       "draw    0.218577\n",
       "Name: result, dtype: float64"
      ]
     },
     "execution_count": 10,
     "metadata": {},
     "output_type": "execute_result"
    }
   ],
   "source": [
    "df_model['result'].value_counts(normalize=True)"
   ]
  },
  {
   "cell_type": "markdown",
   "metadata": {},
   "source": [
    "#### Prepare data for the model\n",
    "\n",
    "This is a classification problem. Random forest is in general a popular algorithm to use. Random forest is kind of an advanced decision tree. The classifier from sklearn will be used. For this to work, the classes must be turned into factors. "
   ]
  },
  {
   "cell_type": "code",
   "execution_count": 11,
   "metadata": {
    "scrolled": false
   },
   "outputs": [],
   "source": [
    "#Creating the dependent variable class\n",
    "mapping = {'home': 0, 'draw': 1, 'away': 2}\n",
    "df_model = df_model.replace({'result': mapping})"
   ]
  },
  {
   "cell_type": "markdown",
   "metadata": {},
   "source": [
    "#### Split into dependent and independent variables\n"
   ]
  },
  {
   "cell_type": "code",
   "execution_count": 12,
   "metadata": {},
   "outputs": [
    {
     "name": "stdout",
     "output_type": "stream",
     "text": [
      "<class 'pandas.core.frame.DataFrame'>\n",
      "RangeIndex: 8107 entries, 0 to 8106\n",
      "Data columns (total 28 columns):\n",
      " #   Column                        Non-Null Count  Dtype  \n",
      "---  ------                        --------------  -----  \n",
      " 0   date                          8107 non-null   object \n",
      " 1   game                          8107 non-null   object \n",
      " 2   score                         8107 non-null   object \n",
      " 3   league                        8107 non-null   object \n",
      " 4   season                        8107 non-null   object \n",
      " 5   game_id                       8107 non-null   int64  \n",
      " 6   home                          8107 non-null   object \n",
      " 7   away                          8107 non-null   object \n",
      " 8   score_home                    8107 non-null   int64  \n",
      " 9   score_away                    8107 non-null   int64  \n",
      " 10  result                        8107 non-null   int64  \n",
      " 11  win_R5_home                   8107 non-null   float64\n",
      " 12  draw_R5_home                  8107 non-null   float64\n",
      " 13  lost_R5_home                  8107 non-null   float64\n",
      " 14  H2H_W_home                    8107 non-null   float64\n",
      " 15  H2H_D_home                    8107 non-null   float64\n",
      " 16  H2H_L_home                    8107 non-null   float64\n",
      " 17  scored_avg_R5_home            8107 non-null   float64\n",
      " 18  conceded_avg_R5_home          8107 non-null   float64\n",
      " 19  points_cum_prev_avg_home      8107 non-null   float64\n",
      " 20  points_cum_h_a_prev_avg_home  8107 non-null   float64\n",
      " 21  win_R5_away                   8107 non-null   float64\n",
      " 22  draw_R5_away                  8107 non-null   float64\n",
      " 23  lost_R5_away                  8107 non-null   float64\n",
      " 24  scored_avg_R5_away            8107 non-null   float64\n",
      " 25  conceded_avg_R5_away          8107 non-null   float64\n",
      " 26  points_cum_prev_avg_away      8107 non-null   float64\n",
      " 27  points_cum_h_a_prev_avg_away  8107 non-null   float64\n",
      "dtypes: float64(17), int64(4), object(7)\n",
      "memory usage: 1.7+ MB\n"
     ]
    }
   ],
   "source": [
    "df_model.info()"
   ]
  },
  {
   "cell_type": "markdown",
   "metadata": {},
   "source": [
    "The dependent variable (what should be predicted) is in column 10, and the independent variables are in columns 11 to 27. \n",
    "A third variable with attributes are stored in the variable ```info```."
   ]
  },
  {
   "cell_type": "code",
   "execution_count": 13,
   "metadata": {},
   "outputs": [],
   "source": [
    "#Splitting the data into independent and dependent variables\n",
    "X = df_model.iloc[:,11:].values\n",
    "y = df_model.iloc[:,10].values\n",
    "info = df_model.iloc[:,0:9].values\n",
    "\n",
    "X_2019 = df_2019.iloc[:,11:].values\n",
    "y_2019 = df_2019.iloc[:,10].values\n",
    "info_2019 = df_2019.iloc[:,0:9].values\n"
   ]
  },
  {
   "cell_type": "markdown",
   "metadata": {},
   "source": [
    "The data is split into train and test data, splitted 80/20.  \n",
    "Considering our imbalanced data set, the input ``stratify =y`` is used in the function.  \n",
    "\n",
    "Finally the independent variables has to be scaled as they are of different scales. This is done with the standard scaler in sklearn library. The mean value for each variable is subtracted and then divided by its unit variance . "
   ]
  },
  {
   "cell_type": "code",
   "execution_count": 14,
   "metadata": {},
   "outputs": [],
   "source": [
    "# Random state = 21 (random number)\n",
    "X_train, X_test, y_train, y_test, info_train, info_test  = train_test_split(X, y, info, \n",
    "                                                                            test_size = 0.2, stratify = y, random_state = 21)\n",
    "\n",
    "# Feature Scaling\n",
    "scaler = StandardScaler()\n",
    "X_train = scaler.fit_transform(X_train)\n",
    "X_test = scaler.transform(X_test)\n",
    "X_2019 = scaler.transform(X_2019)"
   ]
  },
  {
   "cell_type": "markdown",
   "metadata": {},
   "source": [
    "### 4. Train model\n",
    "\n",
    "Data is ready to be used to train the model. "
   ]
  },
  {
   "cell_type": "code",
   "execution_count": 1,
   "metadata": {
    "scrolled": true
   },
   "outputs": [
    {
     "ename": "NameError",
     "evalue": "name 'RandomForestClassifier' is not defined",
     "output_type": "error",
     "traceback": [
      "\u001b[1;31m---------------------------------------------------------------------------\u001b[0m",
      "\u001b[1;31mNameError\u001b[0m                                 Traceback (most recent call last)",
      "\u001b[1;32m<ipython-input-1-a6e13b26891c>\u001b[0m in \u001b[0;36m<module>\u001b[1;34m\u001b[0m\n\u001b[0;32m      1\u001b[0m \u001b[1;31m# Fitting Random Forest Classification to the Training set\u001b[0m\u001b[1;33m\u001b[0m\u001b[1;33m\u001b[0m\u001b[1;33m\u001b[0m\u001b[0m\n\u001b[1;32m----> 2\u001b[1;33m \u001b[0mrf\u001b[0m \u001b[1;33m=\u001b[0m \u001b[0mRandomForestClassifier\u001b[0m\u001b[1;33m(\u001b[0m\u001b[0mn_estimators\u001b[0m \u001b[1;33m=\u001b[0m \u001b[1;36m100\u001b[0m\u001b[1;33m,\u001b[0m \u001b[0mrandom_state\u001b[0m \u001b[1;33m=\u001b[0m \u001b[1;36m42\u001b[0m\u001b[1;33m)\u001b[0m\u001b[1;33m\u001b[0m\u001b[1;33m\u001b[0m\u001b[0m\n\u001b[0m\u001b[0;32m      3\u001b[0m \u001b[0mrf\u001b[0m\u001b[1;33m.\u001b[0m\u001b[0mfit\u001b[0m\u001b[1;33m(\u001b[0m\u001b[0mX_train\u001b[0m\u001b[1;33m,\u001b[0m \u001b[0my_train\u001b[0m\u001b[1;33m)\u001b[0m\u001b[1;33m\u001b[0m\u001b[1;33m\u001b[0m\u001b[0m\n\u001b[0;32m      4\u001b[0m \u001b[1;33m\u001b[0m\u001b[0m\n\u001b[0;32m      5\u001b[0m \u001b[1;31m# save the model to disk\u001b[0m\u001b[1;33m\u001b[0m\u001b[1;33m\u001b[0m\u001b[1;33m\u001b[0m\u001b[0m\n",
      "\u001b[1;31mNameError\u001b[0m: name 'RandomForestClassifier' is not defined"
     ]
    }
   ],
   "source": [
    "# Fitting Random Forest Classification to the Training set\n",
    "rf = RandomForestClassifier(n_estimators = 100, criterion = 'entropy', random_state = 42)\n",
    "rf.fit(X_train, y_train)\n",
    "\n",
    "# save the model to disk\n",
    "#filename = \"C:/Users/marcu/Documents/projects/icehockey/ml_models/rf_predict_game.sav\"\n",
    "#pickle.dump(rf, open(filename, 'wb'))\n"
   ]
  },
  {
   "cell_type": "code",
   "execution_count": 16,
   "metadata": {},
   "outputs": [
    {
     "data": {
      "image/png": "[encoded data removed]",
      "text/plain": [
       "<Figure size 432x288 with 1 Axes>"
      ]
     },
     "metadata": {},
     "output_type": "display_data"
    }
   ],
   "source": [
    "# Calculate feature importances\n",
    "importances = rf.feature_importances_\n",
    "# Sort feature importances in descending order\n",
    "indices = np.argsort(importances)[::-1]\n",
    "\n",
    "names = ['win_R5_home', 'draw_R5_home', 'lost_R5_home', \n",
    "         'H2H_W_home', 'H2H_D_home', 'H2H_L_home', \n",
    "         'scored_avg_R5_home', 'conceded_avg_R5_home',\n",
    "         'points_cum_prev_avg_home', 'points_cum_h_a_prev_avg_home',\n",
    "         'win_R5_away', 'draw_R5_away', 'lost_R5_away',\n",
    "         'scored_avg_R5_away', 'conceded_avg_R5_away',\n",
    "         'points_cum_prev_avg_away', 'points_cum_h_a_prev_avg_away']\n",
    "\n",
    "\n",
    "# Barplot: Add bars\n",
    "plt.bar(range(X.shape[1]), importances[indices])\n",
    "# Add feature names as x-axis labels\n",
    "plt.xticks(range(X.shape[1]), names, rotation=30, fontsize = 8)\n",
    "# Create plot title\n",
    "plt.title(\"Feature Importance\")\n",
    "# Show plot\n",
    "plt.show()"
   ]
  },
  {
   "cell_type": "code",
   "execution_count": 24,
   "metadata": {},
   "outputs": [
    {
     "data": {
      "image/png": "[encoded data removed]",
      "text/plain": [
       "<Figure size 432x288 with 1 Axes>"
      ]
     },
     "metadata": {},
     "output_type": "display_data"
    }
   ],
   "source": [
    "df = pd.DataFrame({'val': importances}, index=names)\n",
    "ax = df.plot.barh(y='val')\n"
   ]
  },
  {
   "cell_type": "markdown",
   "metadata": {},
   "source": [
    "### 5. Evaluate performance\n",
    "\n",
    "Time to evaluate the performance of the model. This is done with precision and recall:  \n",
    "\n",
    "* Precision: Proportion of positive predictions that was correct\n",
    "* Recall: Proportion of actual positives that was identified"
   ]
  },
  {
   "cell_type": "code",
   "execution_count": 25,
   "metadata": {},
   "outputs": [
    {
     "name": "stdout",
     "output_type": "stream",
     "text": [
      "              precision    recall  f1-score   support\n",
      "\n",
      "           0       0.50      0.81      0.62       766\n",
      "           1       0.27      0.03      0.06       355\n",
      "           2       0.42      0.28      0.33       501\n",
      "\n",
      "    accuracy                           0.48      1622\n",
      "   macro avg       0.40      0.37      0.34      1622\n",
      "weighted avg       0.42      0.48      0.41      1622\n",
      "\n"
     ]
    }
   ],
   "source": [
    "y_pred_rf = rf.predict(X_test)\n",
    "y_pred_rf_prob = rf.predict_proba(X_test)\n",
    "\n",
    "print(classification_report(y_test, y_pred_rf))"
   ]
  },
  {
   "cell_type": "markdown",
   "metadata": {},
   "source": [
    "* If the model predicts 0 (home win), this is correct 1/2 of the times. The model identifies 81% of all home wins.  \n",
    "* If the model predicts 1 (draw), this is only correct in 27% of the cases. The model has a hard time to identify these (only 3 % are discovered) \n",
    "* If the model predicts 2 (away), this is correct in 42 % of the cases. 28 % of the away wins are identified.\n",
    "\n",
    "The reason for low numbers for draw is that this sign is the least frequent. Thus, the model tends to choose either home or away wins to a higher extent. \n"
   ]
  },
  {
   "cell_type": "markdown",
   "metadata": {},
   "source": [
    "### Would using the model current season bring any money?\n",
    "\n",
    "Now to the interesting part: Would the model bring any money?\n",
    "We are testing the model on the data for 2019. "
   ]
  },
  {
   "cell_type": "code",
   "execution_count": null,
   "metadata": {},
   "outputs": [],
   "source": [
    "y_pred2019_rf = rf.predict(X_2019)\n",
    "y_pred2019_rf_prob = rf.predict_proba(X_2019)\n",
    "\n",
    "df_2019 = pd.DataFrame(info_2019)\n",
    "\n",
    "df_2019.columns = ['date', 'game', 'score', 'league', 'season', 'game_id', 'home', 'away','score_home']\n",
    "\n",
    "# Set the outcome variables and probabilities\n",
    "df_2019['actual'] = y_2019\n",
    "df_2019['predicted'] = y_pred2019_rf\n",
    "df_2019['prob_home'] = y_pred2019_rf_prob[:,0]\n",
    "df_2019['prob_draw'] = y_pred2019_rf_prob[:,1]\n",
    "df_2019['prob_away'] = y_pred2019_rf_prob[:,2]\n",
    "\n",
    "# Map back sign outcome\n",
    "mapping = {0:'home', 1:'draw', 2:'away'}\n",
    "df_2019 = df_2019.replace({'actual': mapping, 'predicted': mapping})\n",
    "\n",
    "df_2019['correct']=0\n",
    "df_2019.loc[df_2019['actual']==df_2019['predicted'],'correct']=1\n",
    "\n",
    "# Check mean values by sign\n",
    "print(\"Correct ratio by prediction\")\n",
    "df_2019.groupby(['predicted'])['correct'].mean()"
   ]
  },
  {
   "cell_type": "markdown",
   "metadata": {},
   "source": [
    "The accuracy looks pretty good. \n",
    "For a proper evaluation, we need the odds per outcome. This data has been collected with the notebook \n",
    "https://github.com/msjoelin/icehockey_analysis/blob/master/get_odds_liverattning.ipynb"
   ]
  },
  {
   "cell_type": "code",
   "execution_count": null,
   "metadata": {},
   "outputs": [],
   "source": [
    "# Add odds data to games\n",
    "url_odds = 'https://raw.githubusercontent.com/msjoelin/icehockey_analysis/master/data/sweden_odds.csv'\n",
    "\n",
    "df_odds = pd.read_csv(url_odds, error_bad_lines=False, sep=',', decimal=',')\n",
    "\n",
    "df_2019_odds = pd.merge(df_2019, df_odds[['date', 'home', 'away', 'odds_1', 'odds_X', 'odds_2', 'odds_outcome']],\n",
    "                   on=['date', 'home', 'away'], how='left')\n",
    "\n",
    "# Add columns for return\n",
    "df_2019_odds['return'] = df_2019_odds['odds_outcome']*df_2019_odds['correct']\n",
    "df_2019_odds.loc[df_2019_odds['correct']==0,'return'] = -1\n",
    "\n",
    "df_2019_odds.head()"
   ]
  },
  {
   "cell_type": "code",
   "execution_count": null,
   "metadata": {},
   "outputs": [],
   "source": [
    "sns.barplot(x='predicted', y='return', \n",
    "            estimator = sum, data=df_2019_odds, ci=None)"
   ]
  },
  {
   "cell_type": "code",
   "execution_count": null,
   "metadata": {},
   "outputs": [],
   "source": [
    "df_2019_odds.to_csv(\"C:/Users/marcu/Documents/projects/icehockey/data/df_2019_odds.csv\", index=False)"
   ]
  }
 ],
 "metadata": {
  "kernelspec": {
   "display_name": "Python 3",
   "language": "python",
   "name": "python3"
  },
  "language_info": {
   "codemirror_mode": {
    "name": "ipython",
    "version": 3
   },
   "file_extension": ".py",
   "mimetype": "text/x-python",
   "name": "python",
   "nbconvert_exporter": "python",
   "pygments_lexer": "ipython3",
   "version": "3.7.6"
  }
 },
 "nbformat": 4,
 "nbformat_minor": 4
}
